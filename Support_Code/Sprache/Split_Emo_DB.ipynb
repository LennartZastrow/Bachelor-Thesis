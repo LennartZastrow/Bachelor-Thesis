{
 "cells": [
  {
   "cell_type": "markdown",
   "metadata": {},
   "source": [
    "#### Emo-DB Sortierung"
   ]
  },
  {
   "cell_type": "code",
   "execution_count": 4,
   "metadata": {},
   "outputs": [
    {
     "name": "stdout",
     "output_type": "stream",
     "text": [
      "Dateien wurden erfolgreich sortiert.\n"
     ]
    }
   ],
   "source": [
    "# Dieser Code sortiert die einzelnen Auditodateien aus der EMO-DB in die entsprechenenden Ordner für Ekel, Angst, Trauer, Angst \n",
    "\n",
    "import os\n",
    "import shutil\n",
    "\n",
    "# Pfad zum Verzeichnis mit den Audiodateien\n",
    "source_dir = \"C:/Users/zastr/Desktop/Thesis/Data/Audio/Emo_DB/wav\"\n",
    "\n",
    "# Zielverzeichnisse für die verschiedenen Emotionen\n",
    "emotion_dirs = {\n",
    "    \"E\": \"C:/Users/zastr/Desktop/Thesis/Data/Audio/Emo_DB/Ekel\",\n",
    "    \"F\": \"C:/Users/zastr/Desktop/Thesis/Data/Audio/Emo_DB/Freude\",\n",
    "    \"T\": \"C:/Users/zastr/Desktop/Thesis/Data/Audio/Emo_DB/Trauer\",\n",
    "    \"A\": \"C:/Users/zastr/Desktop/Thesis/Data/Audio/Emo_DB/Angst\"\n",
    "}\n",
    "\n",
    "# Stelle sicher, dass die Zielverzeichnisse existieren\n",
    "for dir in emotion_dirs.values():\n",
    "    os.makedirs(dir, exist_ok=True)\n",
    "\n",
    "# Durchlaufe alle Dateien im Quellverzeichnis\n",
    "for filename in os.listdir(source_dir):\n",
    "    if filename.endswith(\".wav\"):\n",
    "        # Bestimme die Emotion basierend auf dem vorletzten Buchstaben des Dateinamens\n",
    "        emotion = filename[-6].upper()\n",
    "        \n",
    "        # Prüfe, ob die Emotion in den Zielverzeichnissen vorhanden ist\n",
    "        if emotion in emotion_dirs:\n",
    "            # Vollständiger Pfad zur Quelldatei\n",
    "            source_file = os.path.join(source_dir, filename)\n",
    "            \n",
    "            # Zielverzeichnis basierend auf der Emotion\n",
    "            target_dir = emotion_dirs[emotion]\n",
    "            \n",
    "            # Vollständiger Pfad zur Zieldatei\n",
    "            target_file = os.path.join(target_dir, filename)\n",
    "            \n",
    "            # Verschiebe die Datei in das entsprechende Zielverzeichnis\n",
    "            shutil.copy(source_file, target_file)\n",
    "\n",
    "print(\"Fertig.\")\n"
   ]
  }
 ],
 "metadata": {
  "kernelspec": {
   "display_name": "BA",
   "language": "python",
   "name": "python3"
  },
  "language_info": {
   "codemirror_mode": {
    "name": "ipython",
    "version": 3
   },
   "file_extension": ".py",
   "mimetype": "text/x-python",
   "name": "python",
   "nbconvert_exporter": "python",
   "pygments_lexer": "ipython3",
   "version": "3.10.13"
  }
 },
 "nbformat": 4,
 "nbformat_minor": 2
}
