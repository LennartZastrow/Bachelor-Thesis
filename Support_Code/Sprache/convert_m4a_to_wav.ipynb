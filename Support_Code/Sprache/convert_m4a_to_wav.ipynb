{
 "cells": [
  {
   "cell_type": "code",
   "execution_count": 7,
   "metadata": {},
   "outputs": [
    {
     "name": "stdout",
     "output_type": "stream",
     "text": [
      "Konvertierung abgeschlossen.\n"
     ]
    }
   ],
   "source": [
    "# Dieser Code konvertiert die m4a Dateien in wav Formate\n",
    "# Installation von ffmpeg ist notwendig \n",
    "# Hinzufügen von Pathfile von ffmeg/bin ebenso notwendig zur Benutzung\n",
    "\n",
    "import os\n",
    "import subprocess\n",
    "\n",
    "def convert_m4a_to_wav(source_folder, target_folder):\n",
    "    ffmpeg_path = ffmpeg_path = r\"C:\\Users\\zastr\\Desktop\\Thesis\\Support_Code\\Speech\\ffmpeg\\ffmpeg-master-latest-win64-gpl\\bin\\ffmpeg.exe\"\n",
    "\n",
    "\n",
    "    for root, dirs, files in os.walk(source_folder):\n",
    "        for file in files:\n",
    "            if file.endswith('.m4a'):\n",
    "                source_file = os.path.join(root, file)\n",
    "                relative_path = os.path.relpath(root, source_folder)\n",
    "                target_dir = os.path.join(target_folder, relative_path)\n",
    "                if not os.path.exists(target_dir):\n",
    "                    os.makedirs(target_dir)\n",
    "                target_file = os.path.join(target_dir, os.path.splitext(file)[0] + '.wav')\n",
    "                \n",
    "                command = [ffmpeg_path, '-i', source_file, target_file]\n",
    "                subprocess.run(command, check=True)\n",
    "\n",
    "source_dir = r'C:\\Users\\zastr\\Desktop\\Thesis\\Data\\Testdata'\n",
    "target_dir = r'C:\\Users\\zastr\\Desktop\\Thesis\\Data\\Testdata_wav'\n",
    "\n",
    "convert_m4a_to_wav(source_dir, target_dir)\n",
    "\n",
    "print(\"Konvertierung abgeschlossen.\")\n"
   ]
  }
 ],
 "metadata": {
  "kernelspec": {
   "display_name": "BA",
   "language": "python",
   "name": "python3"
  },
  "language_info": {
   "codemirror_mode": {
    "name": "ipython",
    "version": 3
   },
   "file_extension": ".py",
   "mimetype": "text/x-python",
   "name": "python",
   "nbconvert_exporter": "python",
   "pygments_lexer": "ipython3",
   "version": "3.10.13"
  }
 },
 "nbformat": 4,
 "nbformat_minor": 2
}
