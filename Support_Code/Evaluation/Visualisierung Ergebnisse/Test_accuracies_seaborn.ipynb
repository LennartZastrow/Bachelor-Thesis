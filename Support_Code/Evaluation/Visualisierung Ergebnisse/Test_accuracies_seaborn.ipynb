{
 "cells": [
  {
   "cell_type": "markdown",
   "metadata": {},
   "source": [
    "#### Visualisierung der Testaccuracy ohne Dataaugmentation"
   ]
  },
  {
   "cell_type": "code",
   "execution_count": null,
   "metadata": {},
   "outputs": [],
   "source": [
    "import seaborn as sns\n",
    "import matplotlib.pyplot as plt\n",
    "import pandas as pd\n",
    "\n",
    "# Daten vorbereiten\n",
    "model_names = ['VGG16', 'VGG19', 'ResNet50', 'ResNet101', 'InceptionNetV3', 'DenseNet161', 'EfficientNetB7']\n",
    "accuracies = [96.96, 98.08, 97.28, 95.21, 96.49, 97.44, 96.33]\n",
    "\n",
    "# Ein DataFrame erstellen\n",
    "data = pd.DataFrame({'Model': model_names, 'Accuracy': accuracies})\n",
    "\n",
    "# Balkendiagramm mit Seaborn erstellen\n",
    "plt.figure(figsize=(10, 6))\n",
    "sns.barplot(x='Model', y='Accuracy', data=data, palette='Blues_d')\n",
    "\n",
    "# Ästhetik anpassen\n",
    "plt.title('Testaccuracy ohne Dataaugmentation', fontsize=16)\n",
    "plt.ylim(90, 100)\n",
    "plt.ylabel('Accuracy (%)', fontsize=14)\n",
    "plt.xlabel('Model', fontsize=14)\n",
    "plt.xticks(rotation=45)\n",
    "sns.despine()\n",
    "\n",
    "# Diagramm anzeigen\n",
    "plt.show()\n"
   ]
  },
  {
   "cell_type": "markdown",
   "metadata": {},
   "source": [
    "#### Visualisierung der Testaccuracy mit Dataaugmentation"
   ]
  },
  {
   "cell_type": "code",
   "execution_count": null,
   "metadata": {},
   "outputs": [],
   "source": [
    "# Daten für Testaccuracy mit Dataaugmentation aktualisieren\n",
    "accuracies_augmentation = [93.77, 42.81, 45.21, 66.93, 42.65, 97.28, 87.64]\n",
    "data_augmentation = pd.DataFrame({'Model': model_names, 'Accuracy': accuracies_augmentation})\n",
    "\n",
    "# Balkendiagramm mit Seaborn für Dataaugmentation-Daten erstellen\n",
    "plt.figure(figsize=(10, 6))\n",
    "sns.barplot(x='Model', y='Accuracy', data=data_augmentation, palette='Blues_d')\n",
    "\n",
    "# Ästhetik anpassen \n",
    "plt.title('Testaccuracy mit Dataaugmentation', fontsize=16)\n",
    "plt.ylim(40, 100)  # Anpassung der y-Achse aufgrund niedrigerer Werte\n",
    "plt.ylabel('Accuracy (%)', fontsize=14)\n",
    "plt.xlabel('Model', fontsize=14)\n",
    "plt.xticks(rotation=45)\n",
    "sns.despine()\n",
    "\n",
    "# Diagramm anzeigen\n",
    "plt.show()\n"
   ]
  }
 ],
 "metadata": {
  "language_info": {
   "name": "python"
  }
 },
 "nbformat": 4,
 "nbformat_minor": 2
}
