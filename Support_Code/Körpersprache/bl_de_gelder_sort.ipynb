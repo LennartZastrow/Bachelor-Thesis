{
 "cells": [
  {
   "cell_type": "markdown",
   "metadata": {},
   "source": [
    "#### Bearbeitung des DeGelder Dataset in die Ordnerstruktur"
   ]
  },
  {
   "cell_type": "code",
   "execution_count": 2,
   "metadata": {},
   "outputs": [],
   "source": [
    "import os\n",
    "import shutil\n",
    "\n",
    "# Aktualisierter Basispfad für die Quelldateien\n",
    "source_base_path = \"C:\\\\Users\\\\zastr\\\\Desktop\\\\Thesis\\\\Data\\\\Frames\\\\Externe_Datasets\"\n",
    "# Basispfad für die Zielordner\n",
    "target_base_path = \"C:\\\\Users\\\\zastr\\\\Desktop\\\\Thesis\\\\Data\\\\Frames\\\\Externe_Datasets\\\\BodyLanguage_DeGelder\"\n",
    "\n",
    "emotion_folders = {\n",
    "    \"AN\": \"Wut\",\n",
    "    \"FE\": \"Angst\",\n",
    "    \"HA\": \"Freude\",\n",
    "    \"SA\": \"Trauer\",\n",
    "    # Hier können weitere Emotionscodes mit den entsprechenden Ordnern hinzugefügt werden, falls benötigt\n",
    "}\n",
    "\n",
    "# Durchsuche den Basisordner nach .bmp Bildern\n",
    "for file in os.listdir(source_base_path):\n",
    "    if file.endswith(\".bmp\"):  # Berücksichtigt nur .bmp Dateien\n",
    "        # Entferne Zahlen am Ende des Dateinamens, falls vorhanden\n",
    "        file_name_without_numbers = ''.join([i for i in file[:-4] if not i.isdigit()])\n",
    "        # Extrahiere die letzten zwei Buchstaben des Dateinamens\n",
    "        emotion_code = file_name_without_numbers[-2:]\n",
    "        \n",
    "        # Finde den entsprechenden Emotionsordner basierend auf dem Code\n",
    "        target_folder = emotion_folders.get(emotion_code)\n",
    "        if target_folder:\n",
    "            # Erstelle den vollständigen Pfad zum Zielordner\n",
    "            target_path = os.path.join(target_base_path, target_folder)\n",
    "            # Erstelle den Zielordner, falls er noch nicht existiert\n",
    "            if not os.path.exists(target_path):\n",
    "                os.makedirs(target_path)\n",
    "            # Verschiebe die Datei in den Zielordner\n",
    "            shutil.move(os.path.join(source_base_path, file), os.path.join(target_path, file))\n"
   ]
  }
 ],
 "metadata": {
  "kernelspec": {
   "display_name": "BA",
   "language": "python",
   "name": "python3"
  },
  "language_info": {
   "codemirror_mode": {
    "name": "ipython",
    "version": 3
   },
   "file_extension": ".py",
   "mimetype": "text/x-python",
   "name": "python",
   "nbconvert_exporter": "python",
   "pygments_lexer": "ipython3",
   "version": "3.10.13"
  }
 },
 "nbformat": 4,
 "nbformat_minor": 2
}
